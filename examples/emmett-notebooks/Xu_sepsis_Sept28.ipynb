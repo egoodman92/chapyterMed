{
 "cells": [
  {
   "cell_type": "raw",
   "id": "914f739d-5c70-431a-b4b6-d67bf0f93dd3",
   "metadata": {
    "editable": true,
    "slideshow": {
     "slide_type": ""
    },
    "tags": []
   },
   "source": [
    "# this notebook is based on the following study\n",
    "# https://www.ncbi.nlm.nih.gov/pmc/articles/PMC6687414/"
   ]
  },
  {
   "cell_type": "code",
   "execution_count": 1,
   "id": "0dd73c65-10b2-41c9-9b56-2da33223224d",
   "metadata": {},
   "outputs": [],
   "source": [
    "# make sure changes in code take place immediately\n",
    "# this is a developer setting, don't need it for production\n",
    "\n",
    "%load_ext autoreload\n",
    "%autoreload 2\n",
    "\n",
    "%reload_ext chapyter"
   ]
  },
  {
   "cell_type": "code",
   "execution_count": 2,
   "id": "2a23821b-301f-4402-8454-a0b74f531328",
   "metadata": {},
   "outputs": [],
   "source": [
    "import os\n",
    "os.environ[\"NOTEBOOK_NAME\"] = \"Xu_sepsis_Sept28.ipynb\""
   ]
  },
  {
   "cell_type": "markdown",
   "id": "5fee1d39-4e92-45fc-9868-0461a99c8542",
   "metadata": {},
   "source": [
    "## Let the study begin!"
   ]
  },
  {
   "cell_type": "code",
   "execution_count": 3,
   "id": "f53ffd22-19ba-4df5-b8a2-6525907b49e6",
   "metadata": {
    "ChapyterCell": {
     "cellType": "original"
    }
   },
   "outputs": [
    {
     "name": "stdout",
     "output_type": "stream",
     "text": [
      "To retrieve the data you're asking for, we need to join the PATIENTS table with the DIAGNOSES_ICD and ADMISSIONS tables. The DIAGNOSES_ICD table contains the ICD-9 codes for diagnoses, and the ADMISSIONS table contains information about the patient's hospital stay, including whether they died in the hospital.\n",
      "\n",
      "The ICD-9 codes for \"sepsis,\" \"severe sepsis,\" and \"septic shock\" are 99591, 99592, and 78552 respectively. \n",
      "\n",
      "Here is the SQL query:\n",
      "\n",
      "This query will return the patient's ID, gender, age at the time of admission, and a flag indicating whether the patient died in the hospital. The flag is 1 if the patient died in the hospital and 0 otherwise. The patients included in the results are those who have been diagnosed with sepsis, severe sepsis, or septic shock.\n"
     ]
    }
   ],
   "source": [
    "%%mimicSQL\n",
    "\n",
    "Retrieve all data from PATIENTS table where patients have “sepsis,” “severe sepsis,” or “septic shock”. Explain what youre doing. Include patient age and gender as columns. I also want to know if each patient died in the hospital."
   ]
  },
  {
   "cell_type": "code",
   "execution_count": 4,
   "id": "0a9bd33c-1405-4500-875f-cbc0cc5c1757",
   "metadata": {},
   "outputs": [
    {
     "data": {
      "text/html": [
       "<div>\n",
       "<style scoped>\n",
       "    .dataframe tbody tr th:only-of-type {\n",
       "        vertical-align: middle;\n",
       "    }\n",
       "\n",
       "    .dataframe tbody tr th {\n",
       "        vertical-align: top;\n",
       "    }\n",
       "\n",
       "    .dataframe thead th {\n",
       "        text-align: right;\n",
       "    }\n",
       "</style>\n",
       "<table border=\"1\" class=\"dataframe\">\n",
       "  <thead>\n",
       "    <tr style=\"text-align: right;\">\n",
       "      <th></th>\n",
       "      <th>subject_id</th>\n",
       "      <th>gender</th>\n",
       "      <th>age</th>\n",
       "      <th>hospital_expire_flag</th>\n",
       "    </tr>\n",
       "  </thead>\n",
       "  <tbody>\n",
       "    <tr>\n",
       "      <th>0</th>\n",
       "      <td>250</td>\n",
       "      <td>F</td>\n",
       "      <td>23</td>\n",
       "      <td>1</td>\n",
       "    </tr>\n",
       "    <tr>\n",
       "      <th>1</th>\n",
       "      <td>250</td>\n",
       "      <td>F</td>\n",
       "      <td>23</td>\n",
       "      <td>1</td>\n",
       "    </tr>\n",
       "    <tr>\n",
       "      <th>2</th>\n",
       "      <td>269</td>\n",
       "      <td>M</td>\n",
       "      <td>40</td>\n",
       "      <td>0</td>\n",
       "    </tr>\n",
       "    <tr>\n",
       "      <th>3</th>\n",
       "      <td>269</td>\n",
       "      <td>M</td>\n",
       "      <td>40</td>\n",
       "      <td>0</td>\n",
       "    </tr>\n",
       "    <tr>\n",
       "      <th>4</th>\n",
       "      <td>689</td>\n",
       "      <td>F</td>\n",
       "      <td>56</td>\n",
       "      <td>0</td>\n",
       "    </tr>\n",
       "  </tbody>\n",
       "</table>\n",
       "</div>"
      ],
      "text/plain": [
       "  subject_id gender age hospital_expire_flag\n",
       "0        250      F  23                    1\n",
       "1        250      F  23                    1\n",
       "2        269      M  40                    0\n",
       "3        269      M  40                    0\n",
       "4        689      F  56                    0"
      ]
     },
     "metadata": {},
     "output_type": "display_data"
    },
    {
     "name": "stdout",
     "output_type": "stream",
     "text": [
      "SYS PROMPT Return a variable name that would befit a dataframe containing the results from this SQL query. Names that are not allowed include dict_keys(['__name__', '__doc__', '__package__', '__loader__', '__spec__', '__builtin__', '__builtins__', '_ih', '_oh', '_dh', 'In', 'Out', 'get_ipython', 'exit', 'quit', 'open', '_', '__', '___', '_i', '_ii', '_iii', '_i1', '_i2', 'os', '_i3', '_i4'])\n",
      "Results stored in dataframe:  patient_admission_diagnosis\n"
     ]
    }
   ],
   "source": [
    "%%runSQL \n",
    "\n",
    "\n",
    "SELECT p.subject_id, p.gender, \n",
    "       DATE_DIFF('year', p.dob, a.admittime) AS age,\n",
    "       a.hospital_expire_flag\n",
    "FROM patients p\n",
    "JOIN admissions a ON p.subject_id = a.subject_id\n",
    "JOIN diagnoses_icd d ON p.subject_id = d.subject_id\n",
    "WHERE d.icd9_code IN ('99591', '99592', '78552')\n"
   ]
  },
  {
   "cell_type": "code",
   "execution_count": 5,
   "id": "817af691-4e87-4621-a839-e8c6a338d454",
   "metadata": {
    "ChapyterCell": {
     "cellType": "original"
    }
   },
   "outputs": [
    {
     "name": "stdout",
     "output_type": "stream",
     "text": [
      "You're correct, there are more ICD-9 codes that could indicate a sepsis condition. In addition to the ones we've already used, we could also consider codes for systemic inflammatory response syndrome (SIRS), which is often associated with sepsis. The codes for SIRS due to infectious process with and without organ dysfunction are 99590 and 99591 respectively. \n",
      "\n",
      "We could also consider codes for specific types of sepsis, such as streptococcal sepsis (0380), staphylococcal sepsis (0381), and other septicemia (0389).\n",
      "\n",
      "Here is the updated SQL query:\n",
      "\n",
      "This query will return the same columns as before, but now it includes patients who have been diagnosed with SIRS or specific types of sepsis in addition to general sepsis, severe sepsis, and septic shock.\n"
     ]
    }
   ],
   "source": [
    "%%mimicSQL\n",
    "\n",
    "Im sure there must be more icd codes than that! Help me find all the potential sepsis patients."
   ]
  },
  {
   "cell_type": "code",
   "execution_count": 5,
   "id": "016f413c-71d9-4c5d-a454-c92b71a8f399",
   "metadata": {},
   "outputs": [
    {
     "data": {
      "text/html": [
       "<div>\n",
       "<style scoped>\n",
       "    .dataframe tbody tr th:only-of-type {\n",
       "        vertical-align: middle;\n",
       "    }\n",
       "\n",
       "    .dataframe tbody tr th {\n",
       "        vertical-align: top;\n",
       "    }\n",
       "\n",
       "    .dataframe thead th {\n",
       "        text-align: right;\n",
       "    }\n",
       "</style>\n",
       "<table border=\"1\" class=\"dataframe\">\n",
       "  <thead>\n",
       "    <tr style=\"text-align: right;\">\n",
       "      <th></th>\n",
       "      <th>subject_id</th>\n",
       "      <th>gender</th>\n",
       "      <th>age</th>\n",
       "      <th>hospital_expire_flag</th>\n",
       "    </tr>\n",
       "  </thead>\n",
       "  <tbody>\n",
       "    <tr>\n",
       "      <th>0</th>\n",
       "      <td>250</td>\n",
       "      <td>F</td>\n",
       "      <td>23</td>\n",
       "      <td>1</td>\n",
       "    </tr>\n",
       "    <tr>\n",
       "      <th>1</th>\n",
       "      <td>250</td>\n",
       "      <td>F</td>\n",
       "      <td>23</td>\n",
       "      <td>1</td>\n",
       "    </tr>\n",
       "    <tr>\n",
       "      <th>2</th>\n",
       "      <td>268</td>\n",
       "      <td>F</td>\n",
       "      <td>65</td>\n",
       "      <td>1</td>\n",
       "    </tr>\n",
       "    <tr>\n",
       "      <th>3</th>\n",
       "      <td>269</td>\n",
       "      <td>M</td>\n",
       "      <td>40</td>\n",
       "      <td>0</td>\n",
       "    </tr>\n",
       "    <tr>\n",
       "      <th>4</th>\n",
       "      <td>269</td>\n",
       "      <td>M</td>\n",
       "      <td>40</td>\n",
       "      <td>0</td>\n",
       "    </tr>\n",
       "  </tbody>\n",
       "</table>\n",
       "</div>"
      ],
      "text/plain": [
       "  subject_id gender age hospital_expire_flag\n",
       "0        250      F  23                    1\n",
       "1        250      F  23                    1\n",
       "2        268      F  65                    1\n",
       "3        269      M  40                    0\n",
       "4        269      M  40                    0"
      ]
     },
     "metadata": {},
     "output_type": "display_data"
    },
    {
     "name": "stdout",
     "output_type": "stream",
     "text": [
      "SYS PROMPT Return a variable name that would befit a dataframe containing the results from this SQL query. Names that are not allowed include dict_keys(['__name__', '__doc__', '__package__', '__loader__', '__spec__', '__builtin__', '__builtins__', '_ih', '_oh', '_dh', 'In', 'Out', 'get_ipython', 'exit', 'quit', 'open', '_', '__', '___', '_i', '_ii', '_iii', '_i1', '_i2', 'os', '_i3', '_i4', 'patient_admission_diagnosis', '_i5'])\n",
      "Results stored in dataframe:  patient_admission_diagnosis_results\n"
     ]
    }
   ],
   "source": [
    "%%runSQL \n",
    "\n",
    "\n",
    "SELECT p.subject_id, p.gender, \n",
    "       DATE_DIFF('year', p.dob, a.admittime) AS age,\n",
    "       a.hospital_expire_flag\n",
    "FROM patients p\n",
    "JOIN admissions a ON p.subject_id = a.subject_id\n",
    "JOIN diagnoses_icd d ON p.subject_id = d.subject_id\n",
    "WHERE d.icd9_code IN ('99591', '99592', '78552', '99590', '0380', '0381', '0389')\n"
   ]
  },
  {
   "cell_type": "code",
   "execution_count": 6,
   "id": "0c6985aa-fc57-498e-943b-d657b1a89ee4",
   "metadata": {
    "ChapyterCell": {
     "cellType": "original"
    }
   },
   "outputs": [
    {
     "name": "stdout",
     "output_type": "stream",
     "text": [
      "To find out how many patients we have in each dataframe, we can use the `shape` attribute of the dataframe, which returns a tuple representing the dimensions of the dataframe. The first element of the tuple is the number of rows, which corresponds to the number of patients in this case.\n",
      "\n",
      "Here is the Python code:\n",
      "\n",
      "\n"
     ]
    }
   ],
   "source": [
    "%%mimicPython\n",
    "\n",
    "How many patients do we have in each dataframe?"
   ]
  },
  {
   "cell_type": "code",
   "execution_count": 7,
   "id": "228acf50-570c-48fd-8821-5d99be14c0c5",
   "metadata": {},
   "outputs": [
    {
     "name": "stdout",
     "output_type": "stream",
     "text": [
      "Number of patients in patient_admission_diagnosis:  17419\n",
      "Number of patients in patient_admission_diagnosis_results:  26199\n"
     ]
    }
   ],
   "source": [
    "##AI-generated-code\n",
    "\n",
    "\n",
    "num_patients_admission_diagnosis = patient_admission_diagnosis.shape[0]\n",
    "num_patients_admission_diagnosis_results = patient_admission_diagnosis_results.shape[0]\n",
    "\n",
    "print(\"Number of patients in patient_admission_diagnosis: \", num_patients_admission_diagnosis)\n",
    "print(\"Number of patients in patient_admission_diagnosis_results: \", num_patients_admission_diagnosis_results)\n"
   ]
  },
  {
   "cell_type": "code",
   "execution_count": null,
   "id": "4fdfb119-3fb0-4021-9ca2-de5c86f20cd1",
   "metadata": {},
   "outputs": [],
   "source": []
  }
 ],
 "metadata": {
  "kernelspec": {
   "display_name": "Python 3 (ipykernel)",
   "language": "python",
   "name": "python3"
  },
  "language_info": {
   "codemirror_mode": {
    "name": "ipython",
    "version": 3
   },
   "file_extension": ".py",
   "mimetype": "text/x-python",
   "name": "python",
   "nbconvert_exporter": "python",
   "pygments_lexer": "ipython3",
   "version": "3.10.10"
  }
 },
 "nbformat": 4,
 "nbformat_minor": 5
}
