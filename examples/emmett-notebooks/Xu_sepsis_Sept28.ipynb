{
 "cells": [
  {
   "cell_type": "raw",
   "id": "914f739d-5c70-431a-b4b6-d67bf0f93dd3",
   "metadata": {
    "editable": true,
    "slideshow": {
     "slide_type": ""
    },
    "tags": []
   },
   "source": [
    "# this notebook is based on the following study\n",
    "# https://www.ncbi.nlm.nih.gov/pmc/articles/PMC6687414/"
   ]
  },
  {
   "cell_type": "code",
   "execution_count": 1,
   "id": "0dd73c65-10b2-41c9-9b56-2da33223224d",
   "metadata": {},
   "outputs": [],
   "source": [
    "# make sure changes in code take place immediately\n",
    "# this is a developer setting, don't need it for production\n",
    "\n",
    "%load_ext autoreload\n",
    "%autoreload 2\n",
    "\n",
    "%reload_ext chapyter"
   ]
  },
  {
   "cell_type": "code",
   "execution_count": 2,
   "id": "2a23821b-301f-4402-8454-a0b74f531328",
   "metadata": {},
   "outputs": [],
   "source": [
    "import os\n",
    "os.environ[\"NOTEBOOK_NAME\"] = \"Xu_sepsis_Sept28.ipynb\""
   ]
  },
  {
   "cell_type": "markdown",
   "id": "5fee1d39-4e92-45fc-9868-0461a99c8542",
   "metadata": {},
   "source": [
    "## Let the study begin!"
   ]
  },
  {
   "cell_type": "code",
   "execution_count": null,
   "id": "f53ffd22-19ba-4df5-b8a2-6525907b49e6",
   "metadata": {
    "ChapyterCell": {
     "cellType": "original"
    }
   },
   "outputs": [],
   "source": [
    "%%mimicSQL\n",
    "\n",
    "Retrieve all data from PATIENTS table where patients have “sepsis,” “severe sepsis,” or “septic shock”. Explain what youre doing. Include patient age and gender as columns. I also want to know if each patient died in the hospital."
   ]
  },
  {
   "cell_type": "code",
   "execution_count": 5,
   "id": "ec94da95-8c5c-41f4-9568-0554af3a19a8",
   "metadata": {},
   "outputs": [
    {
     "data": {
      "text/html": [
       "<div>\n",
       "<style scoped>\n",
       "    .dataframe tbody tr th:only-of-type {\n",
       "        vertical-align: middle;\n",
       "    }\n",
       "\n",
       "    .dataframe tbody tr th {\n",
       "        vertical-align: top;\n",
       "    }\n",
       "\n",
       "    .dataframe thead th {\n",
       "        text-align: right;\n",
       "    }\n",
       "</style>\n",
       "<table border=\"1\" class=\"dataframe\">\n",
       "  <thead>\n",
       "    <tr style=\"text-align: right;\">\n",
       "      <th></th>\n",
       "      <th>subject_id</th>\n",
       "      <th>gender</th>\n",
       "      <th>age_at_admission</th>\n",
       "      <th>hospital_expire_flag</th>\n",
       "    </tr>\n",
       "  </thead>\n",
       "  <tbody>\n",
       "    <tr>\n",
       "      <th>0</th>\n",
       "      <td>250</td>\n",
       "      <td>F</td>\n",
       "      <td>23</td>\n",
       "      <td>1</td>\n",
       "    </tr>\n",
       "    <tr>\n",
       "      <th>1</th>\n",
       "      <td>250</td>\n",
       "      <td>F</td>\n",
       "      <td>23</td>\n",
       "      <td>1</td>\n",
       "    </tr>\n",
       "    <tr>\n",
       "      <th>2</th>\n",
       "      <td>269</td>\n",
       "      <td>M</td>\n",
       "      <td>40</td>\n",
       "      <td>0</td>\n",
       "    </tr>\n",
       "    <tr>\n",
       "      <th>3</th>\n",
       "      <td>269</td>\n",
       "      <td>M</td>\n",
       "      <td>40</td>\n",
       "      <td>0</td>\n",
       "    </tr>\n",
       "    <tr>\n",
       "      <th>4</th>\n",
       "      <td>689</td>\n",
       "      <td>F</td>\n",
       "      <td>56</td>\n",
       "      <td>0</td>\n",
       "    </tr>\n",
       "  </tbody>\n",
       "</table>\n",
       "</div>"
      ],
      "text/plain": [
       "  subject_id gender age_at_admission hospital_expire_flag\n",
       "0        250      F               23                    1\n",
       "1        250      F               23                    1\n",
       "2        269      M               40                    0\n",
       "3        269      M               40                    0\n",
       "4        689      F               56                    0"
      ]
     },
     "metadata": {},
     "output_type": "display_data"
    },
    {
     "name": "stdout",
     "output_type": "stream",
     "text": [
      "Storing data in dataframe:  sepsis_patient_admissions_df\n"
     ]
    }
   ],
   "source": [
    "%%runSQL \n",
    "\n",
    "\n",
    "SELECT p.subject_id, p.gender, \n",
    "       DATE_DIFF('year', p.dob, a.admittime) AS age_at_admission,\n",
    "       a.hospital_expire_flag\n",
    "FROM patients p\n",
    "JOIN admissions a ON p.subject_id = a.subject_id\n",
    "JOIN diagnoses_icd d ON p.subject_id = d.subject_id\n",
    "WHERE d.icd9_code IN ('99591', '99592', '78552')\n"
   ]
  },
  {
   "cell_type": "code",
   "execution_count": null,
   "id": "817af691-4e87-4621-a839-e8c6a338d454",
   "metadata": {
    "ChapyterCell": {
     "cellType": "original"
    }
   },
   "outputs": [],
   "source": [
    "%%mimicSQL\n",
    "\n",
    "Im sure there must be more icd codes than that! Help me find all the potential sepsis patients."
   ]
  },
  {
   "cell_type": "code",
   "execution_count": 6,
   "id": "12bcfa3c-6f93-4352-acc9-d45174b2199b",
   "metadata": {},
   "outputs": [
    {
     "data": {
      "text/html": [
       "<div>\n",
       "<style scoped>\n",
       "    .dataframe tbody tr th:only-of-type {\n",
       "        vertical-align: middle;\n",
       "    }\n",
       "\n",
       "    .dataframe tbody tr th {\n",
       "        vertical-align: top;\n",
       "    }\n",
       "\n",
       "    .dataframe thead th {\n",
       "        text-align: right;\n",
       "    }\n",
       "</style>\n",
       "<table border=\"1\" class=\"dataframe\">\n",
       "  <thead>\n",
       "    <tr style=\"text-align: right;\">\n",
       "      <th></th>\n",
       "      <th>subject_id</th>\n",
       "      <th>gender</th>\n",
       "      <th>age_at_admission</th>\n",
       "      <th>hospital_expire_flag</th>\n",
       "    </tr>\n",
       "  </thead>\n",
       "  <tbody>\n",
       "    <tr>\n",
       "      <th>0</th>\n",
       "      <td>250</td>\n",
       "      <td>F</td>\n",
       "      <td>23</td>\n",
       "      <td>1</td>\n",
       "    </tr>\n",
       "    <tr>\n",
       "      <th>1</th>\n",
       "      <td>250</td>\n",
       "      <td>F</td>\n",
       "      <td>23</td>\n",
       "      <td>1</td>\n",
       "    </tr>\n",
       "    <tr>\n",
       "      <th>2</th>\n",
       "      <td>269</td>\n",
       "      <td>M</td>\n",
       "      <td>40</td>\n",
       "      <td>0</td>\n",
       "    </tr>\n",
       "    <tr>\n",
       "      <th>3</th>\n",
       "      <td>269</td>\n",
       "      <td>M</td>\n",
       "      <td>40</td>\n",
       "      <td>0</td>\n",
       "    </tr>\n",
       "    <tr>\n",
       "      <th>4</th>\n",
       "      <td>689</td>\n",
       "      <td>F</td>\n",
       "      <td>56</td>\n",
       "      <td>0</td>\n",
       "    </tr>\n",
       "  </tbody>\n",
       "</table>\n",
       "</div>"
      ],
      "text/plain": [
       "  subject_id gender age_at_admission hospital_expire_flag\n",
       "0        250      F               23                    1\n",
       "1        250      F               23                    1\n",
       "2        269      M               40                    0\n",
       "3        269      M               40                    0\n",
       "4        689      F               56                    0"
      ]
     },
     "metadata": {},
     "output_type": "display_data"
    },
    {
     "name": "stdout",
     "output_type": "stream",
     "text": [
      "Storing data in dataframe:  sepsis_patient_admissions_df\n"
     ]
    }
   ],
   "source": [
    "%%runSQL \n",
    "\n",
    "\n",
    "SELECT p.subject_id, p.gender, \n",
    "       DATE_DIFF('year', p.dob, a.admittime) AS age_at_admission,\n",
    "       a.hospital_expire_flag\n",
    "FROM patients p\n",
    "JOIN admissions a ON p.subject_id = a.subject_id\n",
    "JOIN diagnoses_icd d ON p.subject_id = d.subject_id\n",
    "WHERE d.icd9_code IN ('99591', '99592', '78552', '0380', '0381', '0384')\n"
   ]
  },
  {
   "cell_type": "code",
   "execution_count": null,
   "id": "0c6985aa-fc57-498e-943b-d657b1a89ee4",
   "metadata": {
    "ChapyterCell": {
     "cellType": "original"
    }
   },
   "outputs": [],
   "source": [
    "%%mimicPython\n",
    "\n",
    "Which dataset has more patients in it? And by how much?"
   ]
  },
  {
   "cell_type": "code",
   "execution_count": null,
   "id": "2238c1d2-7783-4f0e-9929-6a9d2b3916af",
   "metadata": {},
   "outputs": [],
   "source": [
    "##AI-generated-code\n",
    "\n",
    "\n",
    "# Count the number of unique patients in each dataset\n",
    "num_patients_sepsis = sepsis_patient_admissions_df['subject_id'].nunique()\n",
    "num_patients_all = patients_df['subject_id'].nunique()\n",
    "\n",
    "# Calculate the difference in the number of patients\n",
    "difference = abs(num_patients_sepsis - num_patients_all)\n",
    "\n",
    "# Determine which dataset has more patients\n",
    "if num_patients_sepsis > num_patients_all:\n",
    "    print(f\"The sepsis_patient_admissions_df dataset has more patients by {difference}.\")\n",
    "elif num_patients_sepsis < num_patients_all:\n",
    "    print(f\"The patients_df dataset has more patients by {difference}.\")\n",
    "else:\n",
    "    print(\"Both datasets have the same number of patients.\")\n"
   ]
  },
  {
   "cell_type": "code",
   "execution_count": null,
   "id": "1cafccde-323b-4511-b693-732448c80872",
   "metadata": {},
   "outputs": [],
   "source": []
  }
 ],
 "metadata": {
  "kernelspec": {
   "display_name": "Python 3 (ipykernel)",
   "language": "python",
   "name": "python3"
  },
  "language_info": {
   "codemirror_mode": {
    "name": "ipython",
    "version": 3
   },
   "file_extension": ".py",
   "mimetype": "text/x-python",
   "name": "python",
   "nbconvert_exporter": "python",
   "pygments_lexer": "ipython3",
   "version": "3.10.10"
  }
 },
 "nbformat": 4,
 "nbformat_minor": 5
}
